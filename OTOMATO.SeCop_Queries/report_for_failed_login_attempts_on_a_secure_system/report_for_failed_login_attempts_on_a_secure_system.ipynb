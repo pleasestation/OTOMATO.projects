{
 "cells": [
  {
   "cell_type": "markdown",
   "id": "7ff5f6db-15e7-477c-9463-2c21295c30ae",
   "metadata": {},
   "source": [
    "### Task:\r\n",
    "You are tasked with creating a report for failed login attempts on a secure system. Given the table `login_attempts`, which has the following columns:\r\n",
    "\r\n",
    "- `user_id`: ID of the user\r\n",
    "- `timestamp`: Date and time of the login attempt\r\n",
    "- `status`: Status of the login attempt (either 'success' or 'failure')\r\n",
    "\r\n",
    "Write a SQL query to find all users who had **more than 3 failed login attempts** within a **24-hour period**. For each user, show the `user_id` and the **total count** of failed attempts within that period.\r\n",
    "\r\n",
    "### Schema:\r\n",
    "`login_attempts(user_id, timestamp, status)`\r\n",
    "\r\n",
    "---\r\n",
    "\r\n",
    "### SQL Query:\r\n",
    "\r\n",
    "```sql\r\n",
    "WITH failed_logins AS (\r\n",
    "    SELECT\r\n",
    "        user_id,\r\n",
    "        timestamp,\r\n",
    "        COUNT(*) OVER (PARTITION BY user_id ORDER BY timestamp RANGE BETWEEN INTERVAL '1' DAY PRECEDING AND CURRENT ROW) AS fail_count\r\n",
    "    FROM login_attempts\r\n",
    "    WHERE status = 'failure'\r\n",
    ")\r\n",
    "SELECT user_id, COUNT(*) AS total_failed_attempts\r\n",
    "FROM failed_logins\r\n",
    "WHERE fail_count > 3\r\n",
    "GROUP BY user_id;\r\n"
   ]
  },
  {
   "cell_type": "markdown",
   "id": "a4b15409-bf04-45b0-a842-77d7003df34c",
   "metadata": {},
   "source": [
    "### Explanation:\n",
    "1. **`WITH failed_logins`**: This Common Table Expression (CTE) creates a subquery to calculate the number of failed login attempts by each user in a rolling 24-hour window. The `COUNT(*) OVER` function is used to count the failures per user, partitioned by `user_id`, and ordered by the `timestamp`. The `RANGE BETWEEN INTERVAL '1' DAY PRECEDING AND CURRENT ROW` clause defines the 24-hour rolling window.\n",
    "   \n",
    "2. **`WHERE status = 'failure'`**: This filters the `login_attempts` table to include only the failed login attempts, ignoring the successful ones.\n",
    "\n",
    "3. **`RANGE BETWEEN INTERVAL '1' DAY PRECEDING AND CURRENT ROW`**: This part defines the 24-hour period to look at each login attempt in the past 24 hours for a specific user.\n",
    "\n",
    "4. **`SELECT user_id, COUNT(*) AS total_failed_attempts`**: In the outer query, the `WHERE fail_count > 3` clause filters the results to include only users who had more than 3 failed login attempts. It then groups the results by `user_id` to return the total count of failed login attempts for each user.\n"
   ]
  },
  {
   "cell_type": "code",
   "execution_count": null,
   "id": "89e3c802-f774-4513-a283-155f8bdaa187",
   "metadata": {},
   "outputs": [],
   "source": []
  }
 ],
 "metadata": {
  "kernelspec": {
   "display_name": "Python 3 (ipykernel)",
   "language": "python",
   "name": "python3"
  },
  "language_info": {
   "codemirror_mode": {
    "name": "ipython",
    "version": 3
   },
   "file_extension": ".py",
   "mimetype": "text/x-python",
   "name": "python",
   "nbconvert_exporter": "python",
   "pygments_lexer": "ipython3",
   "version": "3.12.4"
  }
 },
 "nbformat": 4,
 "nbformat_minor": 5
}
